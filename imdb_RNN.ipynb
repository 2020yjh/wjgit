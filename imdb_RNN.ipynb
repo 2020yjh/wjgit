{
 "cells": [
  {
   "cell_type": "code",
   "execution_count": 117,
   "metadata": {
    "collapsed": true
   },
   "outputs": [],
   "source": [
    "from keras.models import Sequential\n",
    "from keras.layers import Dense, Flatten, Dropout, Bidirectional, TimeDistributed\n",
    "from keras.layers.recurrent import SimpleRNN\n",
    "from keras.layers.embeddings import Embedding\n",
    "from keras.preprocessing import sequence\n",
    "from keras.preprocessing.text import Tokenizer\n",
    "from keras.models import Model\n",
    "from keras.callbacks import EarlyStopping\n",
    "import os\n",
    "import tarfile\n",
    "import numpy as np\n",
    "import re"
   ]
  },
  {
   "cell_type": "code",
   "execution_count": 53,
   "metadata": {
    "collapsed": true
   },
   "outputs": [],
   "source": [
    "def rm_tags(text):\n",
    "    re_tag = re.compile(r'<[^>]+>')\n",
    "    return re_tag.sub('', text)"
   ]
  },
  {
   "cell_type": "code",
   "execution_count": 51,
   "metadata": {
    "collapsed": true
   },
   "outputs": [],
   "source": [
    "def read_files(filetype):\n",
    "    \"\"\"\n",
    "    filetype: 'train' or 'test'\n",
    "    return:\n",
    "    all_texts: filetype数据集文本\n",
    "    all_labels: filetype数据集标签\n",
    "    \"\"\"\n",
    "    # 标签1表示正面，0表示负面\n",
    "    all_labels = [1]*12500 + [0]*12500\n",
    "    all_texts = []\n",
    "    file_list = []\n",
    "    path = r'./aclImdb/'\n",
    "    # 读取正面文本名\n",
    "    pos_path = path + filetype + '/pos/'\n",
    "    for file in os.listdir(pos_path):\n",
    "        file_list.append(pos_path+file)\n",
    "    # 读取负面文本名\n",
    "    neg_path = path + filetype + '/neg/'\n",
    "    for file in os.listdir(neg_path):\n",
    "        file_list.append(neg_path+file)\n",
    "    # 将所有文本内容加到all_texts\n",
    "    for file_name in file_list:\n",
    "        with open(file_name, encoding='utf-8') as f:\n",
    "            all_texts.append(rm_tags(\" \".join(f.readlines())))\n",
    "    return all_texts, all_labels"
   ]
  },
  {
   "cell_type": "code",
   "execution_count": 52,
   "metadata": {
    "collapsed": true
   },
   "outputs": [],
   "source": [
    "def preprocessing(train_texts, train_labels, test_texts, test_labels):\n",
    "    tokenizer = Tokenizer(num_words=3800)  \n",
    "    tokenizer.fit_on_texts(train_texts)\n",
    "    # 对每一句影评文字转换为数字列表，使用每个词的编号进行编号\n",
    "    x_train_seq = tokenizer.texts_to_sequences(train_texts)\n",
    "    x_test_seq = tokenizer.texts_to_sequences(test_texts)\n",
    "    x_train = sequence.pad_sequences(x_train_seq, maxlen=380)\n",
    "    x_test = sequence.pad_sequences(x_test_seq, maxlen=380)\n",
    "    y_train = np.array(train_labels)\n",
    "    y_test = np.array(test_labels)\n",
    "    return x_train, y_train, x_test, y_test"
   ]
  },
  {
   "cell_type": "markdown",
   "metadata": {},
   "source": [
    "### RNN模型"
   ]
  },
  {
   "cell_type": "code",
   "execution_count": 210,
   "metadata": {
    "collapsed": true
   },
   "outputs": [],
   "source": [
    "def RNN(maxlen = 380, max_features = 3800, embed_size = 32):\n",
    "    model = Sequential()\n",
    "    model.add(Embedding(max_features, embed_size, input_length=maxlen))\n",
    "    model.add(Dropout(0.5))\n",
    "    model.add(SimpleRNN(16))\n",
    "    model.add(Dense(256, activation='relu'))\n",
    "    model.add(Dropout(0.5))\n",
    "    model.add(Dense(1, activation='sigmoid'))\n",
    "    return model"
   ]
  },
  {
   "cell_type": "code",
   "execution_count": 211,
   "metadata": {
    "collapsed": true
   },
   "outputs": [],
   "source": [
    "model = RNN()"
   ]
  },
  {
   "cell_type": "code",
   "execution_count": 212,
   "metadata": {
    "scrolled": true
   },
   "outputs": [
    {
     "name": "stdout",
     "output_type": "stream",
     "text": [
      "_________________________________________________________________\n",
      "Layer (type)                 Output Shape              Param #   \n",
      "=================================================================\n",
      "embedding_32 (Embedding)     (None, 380, 32)           121600    \n",
      "_________________________________________________________________\n",
      "dropout_63 (Dropout)         (None, 380, 32)           0         \n",
      "_________________________________________________________________\n",
      "simple_rnn_35 (SimpleRNN)    (None, 16)                784       \n",
      "_________________________________________________________________\n",
      "dense_36 (Dense)             (None, 256)               4352      \n",
      "_________________________________________________________________\n",
      "dropout_64 (Dropout)         (None, 256)               0         \n",
      "_________________________________________________________________\n",
      "dense_37 (Dense)             (None, 1)                 257       \n",
      "=================================================================\n",
      "Total params: 126,993\n",
      "Trainable params: 126,993\n",
      "Non-trainable params: 0\n",
      "_________________________________________________________________\n"
     ]
    }
   ],
   "source": [
    "model.summary()"
   ]
  },
  {
   "cell_type": "markdown",
   "metadata": {},
   "source": [
    "### BRNN模型"
   ]
  },
  {
   "cell_type": "code",
   "execution_count": 213,
   "metadata": {
    "collapsed": true
   },
   "outputs": [],
   "source": [
    "def BRNN(maxlen = 380, max_features = 3800, embed_size = 32):\n",
    "    model = Sequential()\n",
    "    model.add(Embedding(max_features, embed_size, input_length=maxlen))\n",
    "    model.add(Dropout(0.5))\n",
    "    model.add(Bidirectional(SimpleRNN(16, return_sequences=True), merge_mode='concat'))\n",
    "    model.add(Dropout(0.5))\n",
    "    model.add(Flatten())\n",
    "    model.add(Dense(1, activation='sigmoid'))\n",
    "    return model"
   ]
  },
  {
   "cell_type": "code",
   "execution_count": 214,
   "metadata": {
    "collapsed": true,
    "scrolled": true
   },
   "outputs": [],
   "source": [
    "model = BRNN()"
   ]
  },
  {
   "cell_type": "code",
   "execution_count": 215,
   "metadata": {},
   "outputs": [
    {
     "name": "stdout",
     "output_type": "stream",
     "text": [
      "_________________________________________________________________\n",
      "Layer (type)                 Output Shape              Param #   \n",
      "=================================================================\n",
      "embedding_33 (Embedding)     (None, 380, 32)           121600    \n",
      "_________________________________________________________________\n",
      "dropout_65 (Dropout)         (None, 380, 32)           0         \n",
      "_________________________________________________________________\n",
      "bidirectional_29 (Bidirectio (None, 380, 16)           1568      \n",
      "_________________________________________________________________\n",
      "dropout_66 (Dropout)         (None, 380, 16)           0         \n",
      "_________________________________________________________________\n",
      "flatten_4 (Flatten)          (None, 6080)              0         \n",
      "_________________________________________________________________\n",
      "dense_38 (Dense)             (None, 1)                 6081      \n",
      "=================================================================\n",
      "Total params: 129,249\n",
      "Trainable params: 129,249\n",
      "Non-trainable params: 0\n",
      "_________________________________________________________________\n"
     ]
    }
   ],
   "source": [
    "model.summary()"
   ]
  },
  {
   "cell_type": "markdown",
   "metadata": {},
   "source": [
    "### DBRNN"
   ]
  },
  {
   "cell_type": "code",
   "execution_count": 216,
   "metadata": {
    "collapsed": true
   },
   "outputs": [],
   "source": [
    "def DBRNN(maxlen = 380, max_features = 3800, embed_size = 32):\n",
    "    model = Sequential()\n",
    "    model.add(Embedding(max_features, embed_size, input_length=maxlen))\n",
    "    model.add(Dropout(0.5))\n",
    "    model.add(Bidirectional(SimpleRNN(16, return_sequences=True), merge_mode='concat'))\n",
    "    model.add(SimpleRNN(8))\n",
    "    model.add(Dropout(0.5))\n",
    "    model.add(Dense(1, activation='sigmoid'))\n",
    "    return model"
   ]
  },
  {
   "cell_type": "code",
   "execution_count": 217,
   "metadata": {
    "collapsed": true
   },
   "outputs": [],
   "source": [
    "model = DBRNN()"
   ]
  },
  {
   "cell_type": "code",
   "execution_count": 218,
   "metadata": {
    "scrolled": false
   },
   "outputs": [
    {
     "name": "stdout",
     "output_type": "stream",
     "text": [
      "_________________________________________________________________\n",
      "Layer (type)                 Output Shape              Param #   \n",
      "=================================================================\n",
      "embedding_34 (Embedding)     (None, 380, 32)           121600    \n",
      "_________________________________________________________________\n",
      "dropout_67 (Dropout)         (None, 380, 32)           0         \n",
      "_________________________________________________________________\n",
      "bidirectional_30 (Bidirectio (None, 380, 32)           1568      \n",
      "_________________________________________________________________\n",
      "simple_rnn_38 (SimpleRNN)    (None, 8)                 328       \n",
      "_________________________________________________________________\n",
      "dropout_68 (Dropout)         (None, 8)                 0         \n",
      "_________________________________________________________________\n",
      "dense_39 (Dense)             (None, 1)                 9         \n",
      "=================================================================\n",
      "Total params: 123,505\n",
      "Trainable params: 123,505\n",
      "Non-trainable params: 0\n",
      "_________________________________________________________________\n"
     ]
    }
   ],
   "source": [
    "model.summary()"
   ]
  },
  {
   "cell_type": "code",
   "execution_count": 221,
   "metadata": {
    "collapsed": true
   },
   "outputs": [],
   "source": [
    "model = BRNN()"
   ]
  },
  {
   "cell_type": "code",
   "execution_count": 222,
   "metadata": {
    "collapsed": true,
    "scrolled": true
   },
   "outputs": [],
   "source": [
    "model.compile(loss=\"binary_crossentropy\", optimizer=\"adam\", metrics=['accuracy'])"
   ]
  },
  {
   "cell_type": "markdown",
   "metadata": {},
   "source": [
    "### 处理数据"
   ]
  },
  {
   "cell_type": "code",
   "execution_count": 57,
   "metadata": {
    "collapsed": true
   },
   "outputs": [],
   "source": [
    "if not os.path.exists('./aclImdb'):\n",
    "    tfile = tarfile.open(r'./aclImdb_v1.tar.gz', 'r:gz')  # r;gz是读取gzip压缩文件\n",
    "    result = tfile.extractall('./')  # 解压缩文件到当前目录中"
   ]
  },
  {
   "cell_type": "code",
   "execution_count": 58,
   "metadata": {
    "collapsed": true
   },
   "outputs": [],
   "source": [
    "train_texts, train_labels = read_files('train')\n",
    "test_texts, test_labels = read_files('test')\n",
    "x_train, y_train, x_test, y_test = preprocessing(train_texts, train_labels, test_texts, test_labels)"
   ]
  },
  {
   "cell_type": "markdown",
   "metadata": {},
   "source": [
    "### 引入EarlyStopping，当验证集准确率不再改善时停止训练"
   ]
  },
  {
   "cell_type": "code",
   "execution_count": 219,
   "metadata": {
    "collapsed": true
   },
   "outputs": [],
   "source": [
    "es = EarlyStopping(monitor='val_loss', patience=5)"
   ]
  },
  {
   "cell_type": "markdown",
   "metadata": {},
   "source": [
    "### 训练模型"
   ]
  },
  {
   "cell_type": "code",
   "execution_count": 223,
   "metadata": {
    "scrolled": true
   },
   "outputs": [
    {
     "name": "stdout",
     "output_type": "stream",
     "text": [
      "Train on 22500 samples, validate on 2500 samples\n",
      "Epoch 1/20\n",
      "22500/22500 [==============================] - 43s 2ms/step - loss: 0.5016 - acc: 0.7277 - val_loss: 0.4725 - val_acc: 0.7704\n",
      "Epoch 2/20\n",
      "22500/22500 [==============================] - 40s 2ms/step - loss: 0.2851 - acc: 0.8840 - val_loss: 0.2333 - val_acc: 0.9028\n",
      "Epoch 3/20\n",
      "22500/22500 [==============================] - 40s 2ms/step - loss: 0.2456 - acc: 0.9023 - val_loss: 0.2810 - val_acc: 0.8744\n",
      "Epoch 4/20\n",
      "22500/22500 [==============================] - 42s 2ms/step - loss: 0.2088 - acc: 0.9149 - val_loss: 0.3997 - val_acc: 0.8328\n",
      "Epoch 5/20\n",
      "22500/22500 [==============================] - 40s 2ms/step - loss: 0.1783 - acc: 0.9289 - val_loss: 0.3073 - val_acc: 0.8792\n",
      "Epoch 6/20\n",
      "22500/22500 [==============================] - 41s 2ms/step - loss: 0.1496 - acc: 0.9400 - val_loss: 0.3540 - val_acc: 0.8604\n",
      "Epoch 7/20\n",
      "22500/22500 [==============================] - 41s 2ms/step - loss: 0.1267 - acc: 0.9502 - val_loss: 0.3666 - val_acc: 0.8720\n"
     ]
    },
    {
     "data": {
      "text/plain": [
       "<keras.callbacks.History at 0x1db4291eda0>"
      ]
     },
     "execution_count": 223,
     "metadata": {},
     "output_type": "execute_result"
    }
   ],
   "source": [
    "batch_size = 64\n",
    "epochs = 20\n",
    "model.fit(x_train, y_train,\n",
    "          validation_split=0.1,\n",
    "          batch_size=batch_size,\n",
    "          epochs=epochs,\n",
    "          callbacks=[es],\n",
    "          shuffle=True)"
   ]
  },
  {
   "cell_type": "markdown",
   "metadata": {},
   "source": [
    "### 预测测试集"
   ]
  },
  {
   "cell_type": "code",
   "execution_count": 224,
   "metadata": {
    "scrolled": true
   },
   "outputs": [
    {
     "name": "stdout",
     "output_type": "stream",
     "text": [
      "25000/25000 [==============================] - 18s 707us/step\n"
     ]
    }
   ],
   "source": [
    "scores = model.evaluate(x_test, y_test)"
   ]
  },
  {
   "cell_type": "code",
   "execution_count": 64,
   "metadata": {
    "scrolled": true
   },
   "outputs": [
    {
     "name": "stdout",
     "output_type": "stream",
     "text": [
      "RNN:test_loss: 0.594139, accuracy: 0.853720\n"
     ]
    }
   ],
   "source": [
    "print('RNN:test_loss: %f, accuracy: %f' % (scores[0], scores[1]))"
   ]
  },
  {
   "cell_type": "code",
   "execution_count": 133,
   "metadata": {},
   "outputs": [
    {
     "name": "stdout",
     "output_type": "stream",
     "text": [
      "BRNN:test_loss: 0.371344, accuracy: 0.867480\n"
     ]
    }
   ],
   "source": [
    "print('BRNN:test_loss: %f, accuracy: %f' % (scores[0], scores[1]))"
   ]
  },
  {
   "cell_type": "code",
   "execution_count": 122,
   "metadata": {
    "scrolled": true
   },
   "outputs": [
    {
     "name": "stdout",
     "output_type": "stream",
     "text": [
      "DBRNN:test_loss: 0.392413, accuracy: 0.851440\n"
     ]
    }
   ],
   "source": [
    "print('DBRNN:test_loss: %f, accuracy: %f' % (scores[0], scores[1]))"
   ]
  }
 ],
 "metadata": {
  "kernelspec": {
   "display_name": "Python 3",
   "language": "python",
   "name": "python3"
  },
  "language_info": {
   "codemirror_mode": {
    "name": "ipython",
    "version": 3
   },
   "file_extension": ".py",
   "mimetype": "text/x-python",
   "name": "python",
   "nbconvert_exporter": "python",
   "pygments_lexer": "ipython3",
   "version": "3.6.1"
  }
 },
 "nbformat": 4,
 "nbformat_minor": 2
}
